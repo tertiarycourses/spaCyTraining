{
 "cells": [
  {
   "cell_type": "markdown",
   "metadata": {},
   "source": [
    "# NICF - Natural Language Processing (NLP) with Python for Beginners\n",
    "# Answers to the Practical Performance Assessment "
   ]
  },
  {
   "cell_type": "markdown",
   "metadata": {
    "id": "nVJTgf0NNmGg"
   },
   "source": [
    "## Part 1: Common NLP tasks"
   ]
  },
  {
   "cell_type": "code",
   "execution_count": null,
   "metadata": {
    "colab": {
     "base_uri": "https://localhost:8080/"
    },
    "id": "iDVrMDVqNyTO",
    "outputId": "d525f684-ba4c-4d82-c728-b04b4ce6384d"
   },
   "outputs": [],
   "source": [
    "import spacy\n",
    "print(spacy.__version__)"
   ]
  },
  {
   "cell_type": "code",
   "execution_count": null,
   "metadata": {
    "id": "Li2xMOwWNzfd"
   },
   "outputs": [],
   "source": [
    "Text = \" The COVID-19 pandemic in Singapore is part of the worldwide pandemic of coronavirus disease 2019 (COVID-19) caused by severe acute respiratory syndrome coronavirus 2 (SARS-CoV-2). On 22 January 2020, a multi-ministerial committee was formed with Minister for Education Lawrence Wong and Minister for Health Gan Kim Yong as the co-chairs and Prime Minister Lee Hsien Loong and Deputy Prime Minister and Minister for Finance Heng Swee Keat as advisors\""
   ]
  },
  {
   "cell_type": "code",
   "execution_count": null,
   "metadata": {
    "colab": {
     "base_uri": "https://localhost:8080/"
    },
    "id": "_tuW-6OLOdON",
    "outputId": "2e93008c-456a-4719-c817-e2f780a2b4fb"
   },
   "outputs": [],
   "source": [
    "nlp = spacy.load(\"en_core_web_sm\")\n",
    "doc = nlp(Text)"
   ]
  },
  {
   "cell_type": "code",
   "execution_count": null,
   "metadata": {
    "colab": {
     "base_uri": "https://localhost:8080/"
    },
    "id": "CgSGKaLKOA2g",
    "outputId": "1ac1bbac-fea5-4a9a-87ad-99605488ae64"
   },
   "outputs": [],
   "source": [
    "print(f\"{'Token':20}{'POS':20}{'DEP':20}{'LEMMA':20}\")\n",
    "for token in doc:\n",
    "    token_text = token.text\n",
    "    token_pos = token.pos_\n",
    "    token_dep = token.dep_\n",
    "    token_lemma = token.lemma_\n",
    "    print(f\"{token_text:20}{token_pos:20}{token_dep:20}{token_lemma:20}\")"
   ]
  },
  {
   "cell_type": "code",
   "execution_count": null,
   "metadata": {},
   "outputs": [],
   "source": [
    "for ent in doc.ents:\n",
    "    print(ent.text, ent.label_)"
   ]
  },
  {
   "cell_type": "markdown",
   "metadata": {
    "id": "dB-El6iETVOM"
   },
   "source": [
    "## Part 2: Word Similarity"
   ]
  },
  {
   "cell_type": "code",
   "execution_count": null,
   "metadata": {
    "id": "Eh31RErpOYLo"
   },
   "outputs": [],
   "source": [
    "Text = \"Exercise strengthens your heart and improves your circulation. The increased blood flow raises the oxygen levels in your body. This helps lower your risk of heart diseases such as high cholesterol, coronary artery disease, and heart attack. Regular exercise can also lower your blood pressure and triglyceride levels\""
   ]
  },
  {
   "cell_type": "code",
   "execution_count": null,
   "metadata": {
    "id": "kCWg4VMcTh8D"
   },
   "outputs": [],
   "source": [
    "nlp = spacy.load(\"en_core_web_md\")"
   ]
  },
  {
   "cell_type": "code",
   "execution_count": null,
   "metadata": {
    "colab": {
     "base_uri": "https://localhost:8080/"
    },
    "id": "VQFUnZcdUbZ3",
    "outputId": "bbc8f9c4-4882-4336-c6c8-d315ad8bf7b0"
   },
   "outputs": [],
   "source": [
    "from spacy.matcher import Matcher\n",
    "\n",
    "matcher = Matcher(nlp.vocab)\n",
    "\n",
    "pattern = [{\"TEXT\": \"high\"}, {\"TEXT\": \"cholesterol\"}]\n",
    "matcher.add(\"high cholesterol\", [pattern])\n",
    "\n",
    "doc = nlp(Text)\n",
    "matches = matcher(doc)\n",
    "\n",
    "for match_id, start, end in matches:\n",
    "    matched_span1 = doc[start:end]\n",
    "    print(matched_span1.text, start, end)"
   ]
  },
  {
   "cell_type": "code",
   "execution_count": null,
   "metadata": {},
   "outputs": [],
   "source": [
    "from spacy.matcher import Matcher\n",
    "\n",
    "matcher = Matcher(nlp.vocab)\n",
    "\n",
    "pattern = [{\"TEXT\": \"heart\"}, {\"TEXT\": \"attack\"}]\n",
    "matcher.add(\"heart attack\", [pattern])\n",
    "\n",
    "doc = nlp(Text)\n",
    "matches = matcher(doc)\n",
    "\n",
    "for match_id, start, end in matches:\n",
    "    matched_span2 = doc[start:end]\n",
    "    print(matched_span2.text, start, end)"
   ]
  },
  {
   "cell_type": "code",
   "execution_count": null,
   "metadata": {
    "colab": {
     "base_uri": "https://localhost:8080/"
    },
    "id": "drZmRTxVTmwD",
    "outputId": "8be532c0-3571-4864-baaa-9896c241e36e"
   },
   "outputs": [],
   "source": [
    "similarity = matched_span1.similarity(matched_span2)\n",
    "print(similarity)"
   ]
  },
  {
   "cell_type": "markdown",
   "metadata": {
    "id": "NbMsVLaOVAML"
   },
   "source": [
    "## Part 3: Language Model"
   ]
  },
  {
   "cell_type": "code",
   "execution_count": null,
   "metadata": {
    "id": "qCQZZ6w4UnQX"
   },
   "outputs": [],
   "source": [
    "Text = \" The COVID-19 pandemic in Singapore is part of the worldwide pandemic of coronavirus disease 2019 (COVID-19) caused by severe acute respiratory syndrome coronavirus 2 (SARS-CoV-2). On 22 January 2020, a multi-ministerial committee was formed with Minister for Education Lawrence Wong and Minister for Health Gan Kim Yong as the co-chairs and Prime Minister Lee Hsien Loong and Deputy Prime Minister and Minister for Finance Heng Swee Keat as advisors\""
   ]
  },
  {
   "cell_type": "code",
   "execution_count": null,
   "metadata": {},
   "outputs": [],
   "source": [
    "from spacy.language import Language\n",
    "\n",
    "@Language.component(\"my_component\")\n",
    "def my_component(doc):\n",
    "    print(f\"{'Token':20}{'POS':20}{'DEP':20}{'LEMMA':20}\")\n",
    "    for token in doc:\n",
    "        token_text = token.text\n",
    "        token_pos = token.pos_\n",
    "        token_dep = token.dep_\n",
    "        token_lemma = token.lemma_\n",
    "        print(f\"{token_text:20}{token_pos:20}{token_dep:20}{token_lemma:20}\")\n",
    "    return doc\n",
    "\n",
    "nlp = spacy.load(\"en_core_web_sm\")\n",
    "nlp.add_pipe(\"my_component\", name=\"my_component\", last=True)\n",
    "doc = nlp(Text)"
   ]
  },
  {
   "cell_type": "markdown",
   "metadata": {
    "id": "DmoPfIopVzq7"
   },
   "source": [
    "## Part 4: Text Classification"
   ]
  },
  {
   "cell_type": "code",
   "execution_count": null,
   "metadata": {},
   "outputs": [],
   "source": [
    "import spacy\n",
    "import random\n",
    "import json\n",
    "from spacy.training import Example\n",
    "\n",
    "with open(\"gadgets.json\", encoding=\"utf8\") as f:\n",
    "    TRAINING_DATA = json.loads(f.read())\n",
    "\n",
    "nlp = spacy.blank(\"en\")\n",
    "ner = nlp.create_pipe('ner')\n",
    "nlp.add_pipe('ner')\n",
    "ner.add_label(\"GADGET\")\n",
    "\n",
    "examples = []\n",
    "for text, annots in TRAINING_DATA:\n",
    "    examples.append(Example.from_dict(nlp.make_doc(text), annots))"
   ]
  },
  {
   "cell_type": "code",
   "execution_count": null,
   "metadata": {},
   "outputs": [],
   "source": [
    "nlp.begin_training()\n",
    "for i in range(10):\n",
    "    random.shuffle(examples)\n",
    "    for batch in spacy.util.minibatch(examples, size=3):\n",
    "        nlp.update(batch)"
   ]
  },
  {
   "cell_type": "code",
   "execution_count": null,
   "metadata": {
    "id": "ERqur5iGVq1U"
   },
   "outputs": [],
   "source": [
    "Text = \"I dropped my iPhone 12, the screen is cracked. I booked an appointment with Apple store on Monday to repair my iPhone.\""
   ]
  },
  {
   "cell_type": "code",
   "execution_count": null,
   "metadata": {
    "id": "04BdARjVXZcd"
   },
   "outputs": [],
   "source": [
    "doc = nlp(Text)\n",
    "for ent in doc.ents:\n",
    "    print(ent.text, ent.label_)"
   ]
  },
  {
   "cell_type": "code",
   "execution_count": null,
   "metadata": {
    "colab": {
     "base_uri": "https://localhost:8080/"
    },
    "id": "-xmUNoJ3ad9k",
    "outputId": "1ae87a00-ed2f-4483-bd03-66bf6e80c1de"
   },
   "outputs": [],
   "source": [
    "doc = nlp(Text)\n",
    "for ent in doc.ents:\n",
    "    print(ent.text, ent.label_)"
   ]
  },
  {
   "cell_type": "markdown",
   "metadata": {
    "id": "s7lQC0q1cQei"
   },
   "source": [
    "## Part 5: Memory Network"
   ]
  },
  {
   "cell_type": "code",
   "execution_count": null,
   "metadata": {
    "id": "g_cuhzIra4Ih"
   },
   "outputs": [],
   "source": [
    "Text1 = \"Exercise strengthens your heart and improves your circulation. The increased blood flow raises the oxygen levels in your body. \""
   ]
  },
  {
   "cell_type": "code",
   "execution_count": null,
   "metadata": {
    "id": "bOjYbeZ-ZsFV"
   },
   "outputs": [],
   "source": [
    "Text2 = \" The COVID-19 pandemic in Singapore is part of the worldwide pandemic of coronavirus disease 2019 (COVID-19) caused by severe acute respiratory syndrome coronavirus 2 (SARS-CoV-2)\""
   ]
  },
  {
   "cell_type": "code",
   "execution_count": null,
   "metadata": {
    "colab": {
     "base_uri": "https://localhost:8080/",
     "height": 425
    },
    "id": "tRjWpR-jccNq",
    "outputId": "c48bb667-ee01-497a-9a95-5ff96d4c4b53"
   },
   "outputs": [],
   "source": [
    "import spacy\n",
    "\n",
    "nlp = spacy.load(\"en_core_web_trf\")\n",
    "print(nlp.pipe_names) "
   ]
  },
  {
   "cell_type": "code",
   "execution_count": null,
   "metadata": {
    "id": "xJ7pfXUMcd3T"
   },
   "outputs": [],
   "source": [
    "text1 = nlp(Text1)\n",
    "text2 = nlp(Text2)"
   ]
  },
  {
   "cell_type": "code",
   "execution_count": null,
   "metadata": {
    "id": "EADLkuExcngn"
   },
   "outputs": [],
   "source": [
    "print(text1[0].similarity(text2[0]))"
   ]
  }
 ],
 "metadata": {
  "colab": {
   "collapsed_sections": [],
   "name": "KHOONG_WEI_HAO_Solutions_Practical_Assessment.ipynb",
   "provenance": []
  },
  "kernelspec": {
   "display_name": "Python 3",
   "language": "python",
   "name": "python3"
  },
  "language_info": {
   "codemirror_mode": {
    "name": "ipython",
    "version": 3
   },
   "file_extension": ".py",
   "mimetype": "text/x-python",
   "name": "python",
   "nbconvert_exporter": "python",
   "pygments_lexer": "ipython3",
   "version": "3.9.2"
  }
 },
 "nbformat": 4,
 "nbformat_minor": 1
}
